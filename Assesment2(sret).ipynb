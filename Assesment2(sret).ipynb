{
 "cells": [
  {
   "cell_type": "code",
   "execution_count": 55,
   "metadata": {},
   "outputs": [],
   "source": [
    "import pandas as pd"
   ]
  },
  {
   "cell_type": "code",
   "execution_count": 56,
   "metadata": {},
   "outputs": [],
   "source": [
    "#creating lists\n",
    "x={\n",
    "    \"R.No\" : [1,2,3,4,5],\n",
    "    \"Mark\" : [100,99,98,97,94]\n",
    "}"
   ]
  },
  {
   "cell_type": "code",
   "execution_count": 57,
   "metadata": {},
   "outputs": [],
   "source": [
    "#creating lists\n",
    "y={\n",
    "    \"R.No\" : [1,2,3,4,5],\n",
    "    \"Name\" : [\"Sathish\",\"Karan\",\"Sivant\",\"Thiru\",\"Akhil\"]\n",
    "}"
   ]
  },
  {
   "cell_type": "code",
   "execution_count": 58,
   "metadata": {},
   "outputs": [],
   "source": [
    "#creating lists\n",
    "z={\n",
    "    \"R.No\" : [1,2,3,4,5],\n",
    "    \"Conduct\" :[\"Excelent\",\"Outstanding\",\"Super\",\"Good\",\"Fantastic\"]\n",
    "}"
   ]
  },
  {
   "cell_type": "code",
   "execution_count": 59,
   "metadata": {},
   "outputs": [
    {
     "data": {
      "text/html": [
       "<div>\n",
       "<style scoped>\n",
       "    .dataframe tbody tr th:only-of-type {\n",
       "        vertical-align: middle;\n",
       "    }\n",
       "\n",
       "    .dataframe tbody tr th {\n",
       "        vertical-align: top;\n",
       "    }\n",
       "\n",
       "    .dataframe thead th {\n",
       "        text-align: right;\n",
       "    }\n",
       "</style>\n",
       "<table border=\"1\" class=\"dataframe\">\n",
       "  <thead>\n",
       "    <tr style=\"text-align: right;\">\n",
       "      <th></th>\n",
       "      <th>R.No</th>\n",
       "      <th>Mark</th>\n",
       "    </tr>\n",
       "  </thead>\n",
       "  <tbody>\n",
       "    <tr>\n",
       "      <th>0</th>\n",
       "      <td>1</td>\n",
       "      <td>100</td>\n",
       "    </tr>\n",
       "    <tr>\n",
       "      <th>1</th>\n",
       "      <td>2</td>\n",
       "      <td>99</td>\n",
       "    </tr>\n",
       "    <tr>\n",
       "      <th>2</th>\n",
       "      <td>3</td>\n",
       "      <td>98</td>\n",
       "    </tr>\n",
       "    <tr>\n",
       "      <th>3</th>\n",
       "      <td>4</td>\n",
       "      <td>97</td>\n",
       "    </tr>\n",
       "    <tr>\n",
       "      <th>4</th>\n",
       "      <td>5</td>\n",
       "      <td>94</td>\n",
       "    </tr>\n",
       "  </tbody>\n",
       "</table>\n",
       "</div>"
      ],
      "text/plain": [
       "   R.No  Mark\n",
       "0     1   100\n",
       "1     2    99\n",
       "2     3    98\n",
       "3     4    97\n",
       "4     5    94"
      ]
     },
     "execution_count": 59,
     "metadata": {},
     "output_type": "execute_result"
    }
   ],
   "source": [
    "#creating x dataframe\n",
    "xdf= pd.DataFrame(x)\n",
    "xdf\n"
   ]
  },
  {
   "cell_type": "code",
   "execution_count": 60,
   "metadata": {},
   "outputs": [
    {
     "data": {
      "text/html": [
       "<div>\n",
       "<style scoped>\n",
       "    .dataframe tbody tr th:only-of-type {\n",
       "        vertical-align: middle;\n",
       "    }\n",
       "\n",
       "    .dataframe tbody tr th {\n",
       "        vertical-align: top;\n",
       "    }\n",
       "\n",
       "    .dataframe thead th {\n",
       "        text-align: right;\n",
       "    }\n",
       "</style>\n",
       "<table border=\"1\" class=\"dataframe\">\n",
       "  <thead>\n",
       "    <tr style=\"text-align: right;\">\n",
       "      <th></th>\n",
       "      <th>R.No</th>\n",
       "      <th>Name</th>\n",
       "    </tr>\n",
       "  </thead>\n",
       "  <tbody>\n",
       "    <tr>\n",
       "      <th>0</th>\n",
       "      <td>1</td>\n",
       "      <td>Sathish</td>\n",
       "    </tr>\n",
       "    <tr>\n",
       "      <th>1</th>\n",
       "      <td>2</td>\n",
       "      <td>Karan</td>\n",
       "    </tr>\n",
       "    <tr>\n",
       "      <th>2</th>\n",
       "      <td>3</td>\n",
       "      <td>Sivant</td>\n",
       "    </tr>\n",
       "    <tr>\n",
       "      <th>3</th>\n",
       "      <td>4</td>\n",
       "      <td>Thiru</td>\n",
       "    </tr>\n",
       "    <tr>\n",
       "      <th>4</th>\n",
       "      <td>5</td>\n",
       "      <td>Akhil</td>\n",
       "    </tr>\n",
       "  </tbody>\n",
       "</table>\n",
       "</div>"
      ],
      "text/plain": [
       "   R.No     Name\n",
       "0     1  Sathish\n",
       "1     2    Karan\n",
       "2     3   Sivant\n",
       "3     4    Thiru\n",
       "4     5    Akhil"
      ]
     },
     "execution_count": 60,
     "metadata": {},
     "output_type": "execute_result"
    }
   ],
   "source": [
    "#creating y dataframe\n",
    "ydf = pd.DataFrame(y)\n",
    "ydf"
   ]
  },
  {
   "cell_type": "code",
   "execution_count": 61,
   "metadata": {},
   "outputs": [
    {
     "data": {
      "text/html": [
       "<div>\n",
       "<style scoped>\n",
       "    .dataframe tbody tr th:only-of-type {\n",
       "        vertical-align: middle;\n",
       "    }\n",
       "\n",
       "    .dataframe tbody tr th {\n",
       "        vertical-align: top;\n",
       "    }\n",
       "\n",
       "    .dataframe thead th {\n",
       "        text-align: right;\n",
       "    }\n",
       "</style>\n",
       "<table border=\"1\" class=\"dataframe\">\n",
       "  <thead>\n",
       "    <tr style=\"text-align: right;\">\n",
       "      <th></th>\n",
       "      <th>R.No</th>\n",
       "      <th>Conduct</th>\n",
       "    </tr>\n",
       "  </thead>\n",
       "  <tbody>\n",
       "    <tr>\n",
       "      <th>0</th>\n",
       "      <td>1</td>\n",
       "      <td>Excelent</td>\n",
       "    </tr>\n",
       "    <tr>\n",
       "      <th>1</th>\n",
       "      <td>2</td>\n",
       "      <td>Outstanding</td>\n",
       "    </tr>\n",
       "    <tr>\n",
       "      <th>2</th>\n",
       "      <td>3</td>\n",
       "      <td>Super</td>\n",
       "    </tr>\n",
       "    <tr>\n",
       "      <th>3</th>\n",
       "      <td>4</td>\n",
       "      <td>Good</td>\n",
       "    </tr>\n",
       "    <tr>\n",
       "      <th>4</th>\n",
       "      <td>5</td>\n",
       "      <td>Fantastic</td>\n",
       "    </tr>\n",
       "  </tbody>\n",
       "</table>\n",
       "</div>"
      ],
      "text/plain": [
       "   R.No      Conduct\n",
       "0     1     Excelent\n",
       "1     2  Outstanding\n",
       "2     3        Super\n",
       "3     4         Good\n",
       "4     5    Fantastic"
      ]
     },
     "execution_count": 61,
     "metadata": {},
     "output_type": "execute_result"
    }
   ],
   "source": [
    "#creating z dataframe\n",
    "zdf= pd.DataFrame(z)\n",
    "zdf"
   ]
  },
  {
   "cell_type": "code",
   "execution_count": 62,
   "metadata": {},
   "outputs": [],
   "source": [
    "#creating excel file with multiple sheets\n",
    "with pd.ExcelWriter(\"data.xlsx\") as excel:\n",
    "    xdf.to_excel(excel,sheet_name=\"Mark list\")\n",
    "    ydf.to_excel(excel,sheet_name=\"Name list\")\n",
    "    zdf.to_excel(excel,sheet_name=\"Ranking\")"
   ]
  },
  {
   "cell_type": "code",
   "execution_count": 63,
   "metadata": {},
   "outputs": [],
   "source": [
    "#importing data in specified sheet\n",
    "xr = pd.read_excel(\"data.xlsx\",sheet_name=\"Mark list\")\n",
    "xrf = pd.DataFrame(xr)\n"
   ]
  },
  {
   "cell_type": "code",
   "execution_count": 64,
   "metadata": {},
   "outputs": [
    {
     "name": "stdout",
     "output_type": "stream",
     "text": [
      "<class 'pandas.core.frame.DataFrame'>\n",
      "RangeIndex: 5 entries, 0 to 4\n",
      "Data columns (total 3 columns):\n",
      "Unnamed: 0    5 non-null int64\n",
      "R.No          5 non-null int64\n",
      "Mark          5 non-null int64\n",
      "dtypes: int64(3)\n",
      "memory usage: 200.0 bytes\n"
     ]
    }
   ],
   "source": [
    "#short summary\n",
    "xrf.info()"
   ]
  },
  {
   "cell_type": "code",
   "execution_count": 65,
   "metadata": {},
   "outputs": [
    {
     "data": {
      "text/html": [
       "<div>\n",
       "<style scoped>\n",
       "    .dataframe tbody tr th:only-of-type {\n",
       "        vertical-align: middle;\n",
       "    }\n",
       "\n",
       "    .dataframe tbody tr th {\n",
       "        vertical-align: top;\n",
       "    }\n",
       "\n",
       "    .dataframe thead th {\n",
       "        text-align: right;\n",
       "    }\n",
       "</style>\n",
       "<table border=\"1\" class=\"dataframe\">\n",
       "  <thead>\n",
       "    <tr style=\"text-align: right;\">\n",
       "      <th></th>\n",
       "      <th>Unnamed: 0</th>\n",
       "      <th>R.No</th>\n",
       "      <th>Mark</th>\n",
       "    </tr>\n",
       "  </thead>\n",
       "  <tbody>\n",
       "    <tr>\n",
       "      <th>count</th>\n",
       "      <td>5.000000</td>\n",
       "      <td>5.000000</td>\n",
       "      <td>5.000000</td>\n",
       "    </tr>\n",
       "    <tr>\n",
       "      <th>mean</th>\n",
       "      <td>2.000000</td>\n",
       "      <td>3.000000</td>\n",
       "      <td>97.600000</td>\n",
       "    </tr>\n",
       "    <tr>\n",
       "      <th>std</th>\n",
       "      <td>1.581139</td>\n",
       "      <td>1.581139</td>\n",
       "      <td>2.302173</td>\n",
       "    </tr>\n",
       "    <tr>\n",
       "      <th>min</th>\n",
       "      <td>0.000000</td>\n",
       "      <td>1.000000</td>\n",
       "      <td>94.000000</td>\n",
       "    </tr>\n",
       "    <tr>\n",
       "      <th>25%</th>\n",
       "      <td>1.000000</td>\n",
       "      <td>2.000000</td>\n",
       "      <td>97.000000</td>\n",
       "    </tr>\n",
       "    <tr>\n",
       "      <th>50%</th>\n",
       "      <td>2.000000</td>\n",
       "      <td>3.000000</td>\n",
       "      <td>98.000000</td>\n",
       "    </tr>\n",
       "    <tr>\n",
       "      <th>75%</th>\n",
       "      <td>3.000000</td>\n",
       "      <td>4.000000</td>\n",
       "      <td>99.000000</td>\n",
       "    </tr>\n",
       "    <tr>\n",
       "      <th>max</th>\n",
       "      <td>4.000000</td>\n",
       "      <td>5.000000</td>\n",
       "      <td>100.000000</td>\n",
       "    </tr>\n",
       "  </tbody>\n",
       "</table>\n",
       "</div>"
      ],
      "text/plain": [
       "       Unnamed: 0      R.No        Mark\n",
       "count    5.000000  5.000000    5.000000\n",
       "mean     2.000000  3.000000   97.600000\n",
       "std      1.581139  1.581139    2.302173\n",
       "min      0.000000  1.000000   94.000000\n",
       "25%      1.000000  2.000000   97.000000\n",
       "50%      2.000000  3.000000   98.000000\n",
       "75%      3.000000  4.000000   99.000000\n",
       "max      4.000000  5.000000  100.000000"
      ]
     },
     "execution_count": 65,
     "metadata": {},
     "output_type": "execute_result"
    }
   ],
   "source": [
    "#providing some basic info\n",
    "xrf.describe()"
   ]
  },
  {
   "cell_type": "code",
   "execution_count": 66,
   "metadata": {},
   "outputs": [],
   "source": [
    "#importing data in specified sheet\n",
    "yr = pd.read_excel(\"data.xlsx\",\"Name list\")\n",
    "yrf = pd.DataFrame(yr)\n",
    "\n"
   ]
  },
  {
   "cell_type": "code",
   "execution_count": 67,
   "metadata": {},
   "outputs": [
    {
     "name": "stdout",
     "output_type": "stream",
     "text": [
      "<class 'pandas.core.frame.DataFrame'>\n",
      "RangeIndex: 5 entries, 0 to 4\n",
      "Data columns (total 3 columns):\n",
      "Unnamed: 0    5 non-null int64\n",
      "R.No          5 non-null int64\n",
      "Name          5 non-null object\n",
      "dtypes: int64(2), object(1)\n",
      "memory usage: 200.0+ bytes\n"
     ]
    }
   ],
   "source": [
    "#short summary\n",
    "yrf.info()"
   ]
  },
  {
   "cell_type": "code",
   "execution_count": 68,
   "metadata": {},
   "outputs": [
    {
     "data": {
      "text/html": [
       "<div>\n",
       "<style scoped>\n",
       "    .dataframe tbody tr th:only-of-type {\n",
       "        vertical-align: middle;\n",
       "    }\n",
       "\n",
       "    .dataframe tbody tr th {\n",
       "        vertical-align: top;\n",
       "    }\n",
       "\n",
       "    .dataframe thead th {\n",
       "        text-align: right;\n",
       "    }\n",
       "</style>\n",
       "<table border=\"1\" class=\"dataframe\">\n",
       "  <thead>\n",
       "    <tr style=\"text-align: right;\">\n",
       "      <th></th>\n",
       "      <th>Unnamed: 0</th>\n",
       "      <th>R.No</th>\n",
       "    </tr>\n",
       "  </thead>\n",
       "  <tbody>\n",
       "    <tr>\n",
       "      <th>count</th>\n",
       "      <td>5.000000</td>\n",
       "      <td>5.000000</td>\n",
       "    </tr>\n",
       "    <tr>\n",
       "      <th>mean</th>\n",
       "      <td>2.000000</td>\n",
       "      <td>3.000000</td>\n",
       "    </tr>\n",
       "    <tr>\n",
       "      <th>std</th>\n",
       "      <td>1.581139</td>\n",
       "      <td>1.581139</td>\n",
       "    </tr>\n",
       "    <tr>\n",
       "      <th>min</th>\n",
       "      <td>0.000000</td>\n",
       "      <td>1.000000</td>\n",
       "    </tr>\n",
       "    <tr>\n",
       "      <th>25%</th>\n",
       "      <td>1.000000</td>\n",
       "      <td>2.000000</td>\n",
       "    </tr>\n",
       "    <tr>\n",
       "      <th>50%</th>\n",
       "      <td>2.000000</td>\n",
       "      <td>3.000000</td>\n",
       "    </tr>\n",
       "    <tr>\n",
       "      <th>75%</th>\n",
       "      <td>3.000000</td>\n",
       "      <td>4.000000</td>\n",
       "    </tr>\n",
       "    <tr>\n",
       "      <th>max</th>\n",
       "      <td>4.000000</td>\n",
       "      <td>5.000000</td>\n",
       "    </tr>\n",
       "  </tbody>\n",
       "</table>\n",
       "</div>"
      ],
      "text/plain": [
       "       Unnamed: 0      R.No\n",
       "count    5.000000  5.000000\n",
       "mean     2.000000  3.000000\n",
       "std      1.581139  1.581139\n",
       "min      0.000000  1.000000\n",
       "25%      1.000000  2.000000\n",
       "50%      2.000000  3.000000\n",
       "75%      3.000000  4.000000\n",
       "max      4.000000  5.000000"
      ]
     },
     "execution_count": 68,
     "metadata": {},
     "output_type": "execute_result"
    }
   ],
   "source": [
    "#providing some basic info\n",
    "yrf.describe()"
   ]
  },
  {
   "cell_type": "code",
   "execution_count": 69,
   "metadata": {},
   "outputs": [],
   "source": [
    "#importing data in specified sheet\n",
    "zr = pd.read_excel(\"data.xlsx\",\"Ranking\")\n",
    "zrf = pd.DataFrame(zr)\n"
   ]
  },
  {
   "cell_type": "code",
   "execution_count": 70,
   "metadata": {},
   "outputs": [
    {
     "name": "stdout",
     "output_type": "stream",
     "text": [
      "<class 'pandas.core.frame.DataFrame'>\n",
      "RangeIndex: 5 entries, 0 to 4\n",
      "Data columns (total 3 columns):\n",
      "Unnamed: 0    5 non-null int64\n",
      "R.No          5 non-null int64\n",
      "Conduct       5 non-null object\n",
      "dtypes: int64(2), object(1)\n",
      "memory usage: 200.0+ bytes\n"
     ]
    }
   ],
   "source": [
    "#short summary\n",
    "zrf.info()"
   ]
  },
  {
   "cell_type": "code",
   "execution_count": 71,
   "metadata": {},
   "outputs": [
    {
     "data": {
      "text/html": [
       "<div>\n",
       "<style scoped>\n",
       "    .dataframe tbody tr th:only-of-type {\n",
       "        vertical-align: middle;\n",
       "    }\n",
       "\n",
       "    .dataframe tbody tr th {\n",
       "        vertical-align: top;\n",
       "    }\n",
       "\n",
       "    .dataframe thead th {\n",
       "        text-align: right;\n",
       "    }\n",
       "</style>\n",
       "<table border=\"1\" class=\"dataframe\">\n",
       "  <thead>\n",
       "    <tr style=\"text-align: right;\">\n",
       "      <th></th>\n",
       "      <th>Unnamed: 0</th>\n",
       "      <th>R.No</th>\n",
       "    </tr>\n",
       "  </thead>\n",
       "  <tbody>\n",
       "    <tr>\n",
       "      <th>count</th>\n",
       "      <td>5.000000</td>\n",
       "      <td>5.000000</td>\n",
       "    </tr>\n",
       "    <tr>\n",
       "      <th>mean</th>\n",
       "      <td>2.000000</td>\n",
       "      <td>3.000000</td>\n",
       "    </tr>\n",
       "    <tr>\n",
       "      <th>std</th>\n",
       "      <td>1.581139</td>\n",
       "      <td>1.581139</td>\n",
       "    </tr>\n",
       "    <tr>\n",
       "      <th>min</th>\n",
       "      <td>0.000000</td>\n",
       "      <td>1.000000</td>\n",
       "    </tr>\n",
       "    <tr>\n",
       "      <th>25%</th>\n",
       "      <td>1.000000</td>\n",
       "      <td>2.000000</td>\n",
       "    </tr>\n",
       "    <tr>\n",
       "      <th>50%</th>\n",
       "      <td>2.000000</td>\n",
       "      <td>3.000000</td>\n",
       "    </tr>\n",
       "    <tr>\n",
       "      <th>75%</th>\n",
       "      <td>3.000000</td>\n",
       "      <td>4.000000</td>\n",
       "    </tr>\n",
       "    <tr>\n",
       "      <th>max</th>\n",
       "      <td>4.000000</td>\n",
       "      <td>5.000000</td>\n",
       "    </tr>\n",
       "  </tbody>\n",
       "</table>\n",
       "</div>"
      ],
      "text/plain": [
       "       Unnamed: 0      R.No\n",
       "count    5.000000  5.000000\n",
       "mean     2.000000  3.000000\n",
       "std      1.581139  1.581139\n",
       "min      0.000000  1.000000\n",
       "25%      1.000000  2.000000\n",
       "50%      2.000000  3.000000\n",
       "75%      3.000000  4.000000\n",
       "max      4.000000  5.000000"
      ]
     },
     "execution_count": 71,
     "metadata": {},
     "output_type": "execute_result"
    }
   ],
   "source": [
    "#providing some basic info\n",
    "zrf.describe()"
   ]
  },
  {
   "cell_type": "code",
   "execution_count": 72,
   "metadata": {},
   "outputs": [],
   "source": [
    "#importing load_digits datasets\n",
    "from sklearn.datasets import load_digits\n",
    "from sklearn import preprocessing"
   ]
  },
  {
   "cell_type": "code",
   "execution_count": 73,
   "metadata": {},
   "outputs": [],
   "source": [
    "#assinging to a variable\n",
    "digits =load_digits()\n"
   ]
  },
  {
   "cell_type": "code",
   "execution_count": 74,
   "metadata": {},
   "outputs": [
    {
     "name": "stdout",
     "output_type": "stream",
     "text": [
      "(1797, 64)\n"
     ]
    }
   ],
   "source": [
    "#display shape of our dataset\n",
    "print (digits.data.shape)"
   ]
  },
  {
   "cell_type": "code",
   "execution_count": 75,
   "metadata": {},
   "outputs": [],
   "source": [
    "x= digits.data\n",
    "y= digits.target"
   ]
  },
  {
   "cell_type": "code",
   "execution_count": 76,
   "metadata": {},
   "outputs": [],
   "source": [
    "#normilizing data\n",
    "normalized_x=preprocessing.normalize(x)\n",
    "y=y.reshape(1,-1)\n",
    "#normalizing target\n",
    "normalized_y=preprocessing.normalize(y)\n"
   ]
  },
  {
   "cell_type": "code",
   "execution_count": 77,
   "metadata": {},
   "outputs": [
    {
     "data": {
      "text/plain": [
       "array([[0.        , 0.        , 0.09024036, ..., 0.        , 0.        ,\n",
       "        0.        ],\n",
       "       [0.        , 0.        , 0.        , ..., 0.15413829, 0.        ,\n",
       "        0.        ],\n",
       "       [0.        , 0.        , 0.        , ..., 0.24153867, 0.1358655 ,\n",
       "        0.        ],\n",
       "       ...,\n",
       "       [0.        , 0.        , 0.0140138 , ..., 0.08408278, 0.        ,\n",
       "        0.        ],\n",
       "       [0.        , 0.        , 0.03044313, ..., 0.18265877, 0.        ,\n",
       "        0.        ],\n",
       "       [0.        , 0.        , 0.14230641, ..., 0.17076769, 0.01423064,\n",
       "        0.        ]])"
      ]
     },
     "execution_count": 77,
     "metadata": {},
     "output_type": "execute_result"
    }
   ],
   "source": [
    "normalized_x"
   ]
  },
  {
   "cell_type": "code",
   "execution_count": 78,
   "metadata": {},
   "outputs": [
    {
     "data": {
      "text/plain": [
       "array([[0.        , 0.00442868, 0.00885736, ..., 0.03542946, 0.03985814,\n",
       "        0.03542946]])"
      ]
     },
     "execution_count": 78,
     "metadata": {},
     "output_type": "execute_result"
    }
   ],
   "source": [
    "normalized_y"
   ]
  },
  {
   "cell_type": "code",
   "execution_count": 79,
   "metadata": {},
   "outputs": [
    {
     "data": {
      "text/plain": [
       "array([[ 0.        , -0.33655106,  0.07819821, ..., -1.14176167,\n",
       "        -0.50519622, -0.1961923 ],\n",
       "       [ 0.        , -0.33655106, -1.10039696, ...,  0.46599183,\n",
       "        -0.50519622, -0.1961923 ],\n",
       "       [ 0.        , -0.33655106, -1.10039696, ...,  1.37762949,\n",
       "         1.55008272, -0.1961923 ],\n",
       "       ...,\n",
       "       [ 0.        , -0.33655106, -0.91736807, ..., -0.26472858,\n",
       "        -0.50519622, -0.1961923 ],\n",
       "       [ 0.        , -0.33655106, -0.70279078, ...,  0.7634773 ,\n",
       "        -0.50519622, -0.1961923 ],\n",
       "       [ 0.        , -0.33655106,  0.75821316, ...,  0.6394463 ,\n",
       "        -0.28992497, -0.1961923 ]])"
      ]
     },
     "execution_count": 79,
     "metadata": {},
     "output_type": "execute_result"
    }
   ],
   "source": [
    "#standardizing data\n",
    "scaled_x=preprocessing.scale(normalized_x)\n",
    "scaled_x"
   ]
  },
  {
   "cell_type": "code",
   "execution_count": 80,
   "metadata": {},
   "outputs": [
    {
     "data": {
      "text/plain": [
       "array([[0., 0., 0., ..., 0., 0., 0.]])"
      ]
     },
     "execution_count": 80,
     "metadata": {},
     "output_type": "execute_result"
    }
   ],
   "source": [
    "#standardizing target\n",
    "scaled_y=preprocessing.scale(normalized_y)\n",
    "scaled_y"
   ]
  },
  {
   "cell_type": "code",
   "execution_count": 81,
   "metadata": {},
   "outputs": [],
   "source": [
    "#importing load_breast_cancer datasets\n",
    "from sklearn.datasets import load_breast_cancer\n",
    "from sklearn import preprocessing\n"
   ]
  },
  {
   "cell_type": "code",
   "execution_count": 82,
   "metadata": {},
   "outputs": [],
   "source": [
    "#loading data in a variable\n",
    "cancer =load_breast_cancer()"
   ]
  },
  {
   "cell_type": "code",
   "execution_count": 83,
   "metadata": {},
   "outputs": [
    {
     "name": "stdout",
     "output_type": "stream",
     "text": [
      "(569, 30)\n"
     ]
    }
   ],
   "source": [
    "#displaying shape\n",
    "print (cancer.data.shape)"
   ]
  },
  {
   "cell_type": "code",
   "execution_count": 84,
   "metadata": {},
   "outputs": [],
   "source": [
    "x= cancer.data\n",
    "y= cancer.target"
   ]
  },
  {
   "cell_type": "code",
   "execution_count": 85,
   "metadata": {},
   "outputs": [],
   "source": [
    "#normalizing data\n",
    "normalized_x=preprocessing.normalize(x)\n",
    "y=y.reshape(1,-1)\n",
    "#normalizing target\n",
    "normalized_y=preprocessing.normalize(y)"
   ]
  },
  {
   "cell_type": "code",
   "execution_count": 86,
   "metadata": {},
   "outputs": [
    {
     "data": {
      "text/plain": [
       "array([[7.92541486e-03, 4.57286305e-03, 5.40989964e-02, ...,\n",
       "        1.16920795e-04, 2.02695018e-04, 5.23808686e-05],\n",
       "       [8.66575595e-03, 7.48616836e-03, 5.59882822e-02, ...,\n",
       "        7.83583182e-05, 1.15852352e-04, 3.75024596e-05],\n",
       "       [9.36668268e-03, 1.01087865e-02, 6.18419883e-02, ...,\n",
       "        1.15596947e-04, 1.71873157e-04, 4.16624718e-05],\n",
       "       ...,\n",
       "       [1.16438847e-02, 1.96964025e-02, 7.59658259e-02, ...,\n",
       "        9.94640269e-05, 1.55579134e-04, 5.48525170e-05],\n",
       "       [9.23020523e-03, 1.31418408e-02, 6.27743569e-02, ...,\n",
       "        1.18738077e-04, 1.83125480e-04, 5.55604587e-05],\n",
       "       [2.31098880e-02, 7.30820427e-02, 1.42709515e-01, ...,\n",
       "        0.00000000e+00, 8.55006294e-04, 2.09626935e-04]])"
      ]
     },
     "execution_count": 86,
     "metadata": {},
     "output_type": "execute_result"
    }
   ],
   "source": [
    "normalized_x"
   ]
  },
  {
   "cell_type": "code",
   "execution_count": 87,
   "metadata": {},
   "outputs": [
    {
     "data": {
      "text/plain": [
       "array([[0.        , 0.        , 0.        , 0.        , 0.        ,\n",
       "        0.        , 0.        , 0.        , 0.        , 0.        ,\n",
       "        0.        , 0.        , 0.        , 0.        , 0.        ,\n",
       "        0.        , 0.        , 0.        , 0.        , 0.05292561,\n",
       "        0.05292561, 0.05292561, 0.        , 0.        , 0.        ,\n",
       "        0.        , 0.        , 0.        , 0.        , 0.        ,\n",
       "        0.        , 0.        , 0.        , 0.        , 0.        ,\n",
       "        0.        , 0.        , 0.05292561, 0.        , 0.        ,\n",
       "        0.        , 0.        , 0.        , 0.        , 0.        ,\n",
       "        0.        , 0.05292561, 0.        , 0.05292561, 0.05292561,\n",
       "        0.05292561, 0.05292561, 0.05292561, 0.        , 0.        ,\n",
       "        0.05292561, 0.        , 0.        , 0.05292561, 0.05292561,\n",
       "        0.05292561, 0.05292561, 0.        , 0.05292561, 0.        ,\n",
       "        0.        , 0.05292561, 0.05292561, 0.05292561, 0.05292561,\n",
       "        0.        , 0.05292561, 0.        , 0.        , 0.05292561,\n",
       "        0.        , 0.05292561, 0.        , 0.        , 0.05292561,\n",
       "        0.05292561, 0.05292561, 0.        , 0.        , 0.05292561,\n",
       "        0.        , 0.        , 0.        , 0.05292561, 0.05292561,\n",
       "        0.05292561, 0.        , 0.05292561, 0.05292561, 0.        ,\n",
       "        0.        , 0.05292561, 0.05292561, 0.05292561, 0.        ,\n",
       "        0.        , 0.05292561, 0.05292561, 0.05292561, 0.05292561,\n",
       "        0.        , 0.05292561, 0.05292561, 0.        , 0.05292561,\n",
       "        0.05292561, 0.05292561, 0.05292561, 0.05292561, 0.05292561,\n",
       "        0.05292561, 0.05292561, 0.        , 0.        , 0.        ,\n",
       "        0.05292561, 0.        , 0.        , 0.05292561, 0.05292561,\n",
       "        0.05292561, 0.        , 0.        , 0.05292561, 0.        ,\n",
       "        0.05292561, 0.        , 0.        , 0.05292561, 0.        ,\n",
       "        0.        , 0.05292561, 0.05292561, 0.        , 0.05292561,\n",
       "        0.05292561, 0.        , 0.05292561, 0.05292561, 0.05292561,\n",
       "        0.05292561, 0.        , 0.05292561, 0.05292561, 0.05292561,\n",
       "        0.05292561, 0.05292561, 0.05292561, 0.05292561, 0.05292561,\n",
       "        0.05292561, 0.        , 0.05292561, 0.05292561, 0.05292561,\n",
       "        0.05292561, 0.        , 0.        , 0.05292561, 0.        ,\n",
       "        0.05292561, 0.05292561, 0.        , 0.        , 0.05292561,\n",
       "        0.05292561, 0.        , 0.        , 0.05292561, 0.05292561,\n",
       "        0.05292561, 0.05292561, 0.        , 0.05292561, 0.05292561,\n",
       "        0.        , 0.        , 0.        , 0.05292561, 0.        ,\n",
       "        0.05292561, 0.        , 0.05292561, 0.05292561, 0.05292561,\n",
       "        0.        , 0.05292561, 0.05292561, 0.        , 0.        ,\n",
       "        0.05292561, 0.        , 0.        , 0.        , 0.        ,\n",
       "        0.05292561, 0.        , 0.        , 0.        , 0.05292561,\n",
       "        0.        , 0.05292561, 0.        , 0.05292561, 0.05292561,\n",
       "        0.        , 0.05292561, 0.        , 0.        , 0.        ,\n",
       "        0.        , 0.05292561, 0.05292561, 0.        , 0.        ,\n",
       "        0.05292561, 0.05292561, 0.05292561, 0.        , 0.05292561,\n",
       "        0.05292561, 0.05292561, 0.05292561, 0.05292561, 0.        ,\n",
       "        0.        , 0.05292561, 0.05292561, 0.        , 0.05292561,\n",
       "        0.05292561, 0.        , 0.        , 0.05292561, 0.        ,\n",
       "        0.05292561, 0.05292561, 0.05292561, 0.05292561, 0.        ,\n",
       "        0.05292561, 0.05292561, 0.05292561, 0.05292561, 0.05292561,\n",
       "        0.        , 0.05292561, 0.        , 0.        , 0.        ,\n",
       "        0.        , 0.        , 0.        , 0.        , 0.        ,\n",
       "        0.        , 0.        , 0.        , 0.        , 0.        ,\n",
       "        0.        , 0.05292561, 0.05292561, 0.05292561, 0.05292561,\n",
       "        0.05292561, 0.05292561, 0.        , 0.05292561, 0.        ,\n",
       "        0.05292561, 0.05292561, 0.        , 0.05292561, 0.05292561,\n",
       "        0.        , 0.05292561, 0.        , 0.        , 0.05292561,\n",
       "        0.05292561, 0.05292561, 0.05292561, 0.05292561, 0.05292561,\n",
       "        0.05292561, 0.05292561, 0.05292561, 0.05292561, 0.05292561,\n",
       "        0.05292561, 0.05292561, 0.        , 0.05292561, 0.05292561,\n",
       "        0.        , 0.05292561, 0.        , 0.05292561, 0.05292561,\n",
       "        0.05292561, 0.05292561, 0.05292561, 0.05292561, 0.05292561,\n",
       "        0.05292561, 0.05292561, 0.05292561, 0.05292561, 0.05292561,\n",
       "        0.05292561, 0.05292561, 0.        , 0.05292561, 0.05292561,\n",
       "        0.05292561, 0.        , 0.05292561, 0.        , 0.05292561,\n",
       "        0.05292561, 0.05292561, 0.05292561, 0.        , 0.        ,\n",
       "        0.        , 0.05292561, 0.05292561, 0.05292561, 0.05292561,\n",
       "        0.        , 0.05292561, 0.        , 0.05292561, 0.        ,\n",
       "        0.05292561, 0.05292561, 0.05292561, 0.        , 0.05292561,\n",
       "        0.05292561, 0.05292561, 0.05292561, 0.05292561, 0.05292561,\n",
       "        0.05292561, 0.        , 0.        , 0.        , 0.05292561,\n",
       "        0.05292561, 0.05292561, 0.05292561, 0.05292561, 0.05292561,\n",
       "        0.05292561, 0.05292561, 0.05292561, 0.05292561, 0.05292561,\n",
       "        0.        , 0.        , 0.05292561, 0.        , 0.        ,\n",
       "        0.        , 0.05292561, 0.        , 0.        , 0.05292561,\n",
       "        0.05292561, 0.05292561, 0.05292561, 0.05292561, 0.        ,\n",
       "        0.05292561, 0.05292561, 0.05292561, 0.05292561, 0.05292561,\n",
       "        0.        , 0.05292561, 0.05292561, 0.05292561, 0.        ,\n",
       "        0.05292561, 0.05292561, 0.        , 0.        , 0.05292561,\n",
       "        0.05292561, 0.05292561, 0.05292561, 0.05292561, 0.05292561,\n",
       "        0.        , 0.05292561, 0.05292561, 0.05292561, 0.05292561,\n",
       "        0.05292561, 0.05292561, 0.05292561, 0.        , 0.05292561,\n",
       "        0.05292561, 0.05292561, 0.05292561, 0.05292561, 0.        ,\n",
       "        0.05292561, 0.05292561, 0.        , 0.05292561, 0.05292561,\n",
       "        0.05292561, 0.05292561, 0.05292561, 0.05292561, 0.05292561,\n",
       "        0.05292561, 0.05292561, 0.05292561, 0.05292561, 0.05292561,\n",
       "        0.        , 0.05292561, 0.        , 0.        , 0.05292561,\n",
       "        0.        , 0.05292561, 0.05292561, 0.05292561, 0.05292561,\n",
       "        0.05292561, 0.        , 0.05292561, 0.05292561, 0.        ,\n",
       "        0.05292561, 0.        , 0.05292561, 0.05292561, 0.        ,\n",
       "        0.05292561, 0.        , 0.05292561, 0.05292561, 0.05292561,\n",
       "        0.05292561, 0.05292561, 0.05292561, 0.05292561, 0.05292561,\n",
       "        0.        , 0.        , 0.05292561, 0.05292561, 0.05292561,\n",
       "        0.05292561, 0.05292561, 0.05292561, 0.        , 0.05292561,\n",
       "        0.05292561, 0.05292561, 0.05292561, 0.05292561, 0.05292561,\n",
       "        0.05292561, 0.05292561, 0.05292561, 0.05292561, 0.        ,\n",
       "        0.05292561, 0.05292561, 0.05292561, 0.05292561, 0.05292561,\n",
       "        0.05292561, 0.05292561, 0.        , 0.05292561, 0.        ,\n",
       "        0.05292561, 0.05292561, 0.        , 0.05292561, 0.05292561,\n",
       "        0.05292561, 0.05292561, 0.05292561, 0.        , 0.        ,\n",
       "        0.05292561, 0.        , 0.05292561, 0.        , 0.05292561,\n",
       "        0.05292561, 0.05292561, 0.05292561, 0.05292561, 0.        ,\n",
       "        0.05292561, 0.05292561, 0.        , 0.05292561, 0.        ,\n",
       "        0.05292561, 0.        , 0.        , 0.05292561, 0.05292561,\n",
       "        0.05292561, 0.        , 0.05292561, 0.05292561, 0.05292561,\n",
       "        0.05292561, 0.05292561, 0.05292561, 0.05292561, 0.05292561,\n",
       "        0.05292561, 0.05292561, 0.05292561, 0.        , 0.05292561,\n",
       "        0.        , 0.        , 0.05292561, 0.05292561, 0.05292561,\n",
       "        0.05292561, 0.05292561, 0.05292561, 0.05292561, 0.05292561,\n",
       "        0.05292561, 0.05292561, 0.05292561, 0.05292561, 0.05292561,\n",
       "        0.05292561, 0.05292561, 0.05292561, 0.05292561, 0.05292561,\n",
       "        0.05292561, 0.05292561, 0.05292561, 0.05292561, 0.05292561,\n",
       "        0.05292561, 0.05292561, 0.        , 0.        , 0.        ,\n",
       "        0.        , 0.        , 0.        , 0.05292561]])"
      ]
     },
     "execution_count": 87,
     "metadata": {},
     "output_type": "execute_result"
    }
   ],
   "source": [
    "normalized_y"
   ]
  },
  {
   "cell_type": "code",
   "execution_count": 88,
   "metadata": {},
   "outputs": [
    {
     "data": {
      "text/plain": [
       "array([[-1.72631363, -1.57560034, -1.68366795, ...,  0.16324156,\n",
       "        -0.78073382, -0.83405814],\n",
       "       [-1.54156292, -1.3123605 , -1.60776296, ..., -0.5673826 ,\n",
       "        -1.29284946, -1.10134931],\n",
       "       [-1.36664799, -1.07538651, -1.37258122, ...,  0.13815927,\n",
       "        -0.96249192, -1.02661454],\n",
       "       ...,\n",
       "       [-0.79837657, -0.20907068, -0.80513409, ..., -0.16750319,\n",
       "        -1.0585786 , -0.78965489],\n",
       "       [-1.40070568, -0.80132642, -1.33512186, ...,  0.1976727 ,\n",
       "        -0.89613639, -0.77693669],\n",
       "       [ 2.06294269,  4.61473797,  1.87639731, ..., -2.05199887,\n",
       "         3.06597911,  1.9908732 ]])"
      ]
     },
     "execution_count": 88,
     "metadata": {},
     "output_type": "execute_result"
    }
   ],
   "source": [
    "#standardizing data\n",
    "scaled_x=preprocessing.scale(normalized_x)\n",
    "scaled_x"
   ]
  },
  {
   "cell_type": "code",
   "execution_count": 89,
   "metadata": {},
   "outputs": [
    {
     "data": {
      "text/plain": [
       "array([[0., 0., 0., 0., 0., 0., 0., 0., 0., 0., 0., 0., 0., 0., 0., 0.,\n",
       "        0., 0., 0., 0., 0., 0., 0., 0., 0., 0., 0., 0., 0., 0., 0., 0.,\n",
       "        0., 0., 0., 0., 0., 0., 0., 0., 0., 0., 0., 0., 0., 0., 0., 0.,\n",
       "        0., 0., 0., 0., 0., 0., 0., 0., 0., 0., 0., 0., 0., 0., 0., 0.,\n",
       "        0., 0., 0., 0., 0., 0., 0., 0., 0., 0., 0., 0., 0., 0., 0., 0.,\n",
       "        0., 0., 0., 0., 0., 0., 0., 0., 0., 0., 0., 0., 0., 0., 0., 0.,\n",
       "        0., 0., 0., 0., 0., 0., 0., 0., 0., 0., 0., 0., 0., 0., 0., 0.,\n",
       "        0., 0., 0., 0., 0., 0., 0., 0., 0., 0., 0., 0., 0., 0., 0., 0.,\n",
       "        0., 0., 0., 0., 0., 0., 0., 0., 0., 0., 0., 0., 0., 0., 0., 0.,\n",
       "        0., 0., 0., 0., 0., 0., 0., 0., 0., 0., 0., 0., 0., 0., 0., 0.,\n",
       "        0., 0., 0., 0., 0., 0., 0., 0., 0., 0., 0., 0., 0., 0., 0., 0.,\n",
       "        0., 0., 0., 0., 0., 0., 0., 0., 0., 0., 0., 0., 0., 0., 0., 0.,\n",
       "        0., 0., 0., 0., 0., 0., 0., 0., 0., 0., 0., 0., 0., 0., 0., 0.,\n",
       "        0., 0., 0., 0., 0., 0., 0., 0., 0., 0., 0., 0., 0., 0., 0., 0.,\n",
       "        0., 0., 0., 0., 0., 0., 0., 0., 0., 0., 0., 0., 0., 0., 0., 0.,\n",
       "        0., 0., 0., 0., 0., 0., 0., 0., 0., 0., 0., 0., 0., 0., 0., 0.,\n",
       "        0., 0., 0., 0., 0., 0., 0., 0., 0., 0., 0., 0., 0., 0., 0., 0.,\n",
       "        0., 0., 0., 0., 0., 0., 0., 0., 0., 0., 0., 0., 0., 0., 0., 0.,\n",
       "        0., 0., 0., 0., 0., 0., 0., 0., 0., 0., 0., 0., 0., 0., 0., 0.,\n",
       "        0., 0., 0., 0., 0., 0., 0., 0., 0., 0., 0., 0., 0., 0., 0., 0.,\n",
       "        0., 0., 0., 0., 0., 0., 0., 0., 0., 0., 0., 0., 0., 0., 0., 0.,\n",
       "        0., 0., 0., 0., 0., 0., 0., 0., 0., 0., 0., 0., 0., 0., 0., 0.,\n",
       "        0., 0., 0., 0., 0., 0., 0., 0., 0., 0., 0., 0., 0., 0., 0., 0.,\n",
       "        0., 0., 0., 0., 0., 0., 0., 0., 0., 0., 0., 0., 0., 0., 0., 0.,\n",
       "        0., 0., 0., 0., 0., 0., 0., 0., 0., 0., 0., 0., 0., 0., 0., 0.,\n",
       "        0., 0., 0., 0., 0., 0., 0., 0., 0., 0., 0., 0., 0., 0., 0., 0.,\n",
       "        0., 0., 0., 0., 0., 0., 0., 0., 0., 0., 0., 0., 0., 0., 0., 0.,\n",
       "        0., 0., 0., 0., 0., 0., 0., 0., 0., 0., 0., 0., 0., 0., 0., 0.,\n",
       "        0., 0., 0., 0., 0., 0., 0., 0., 0., 0., 0., 0., 0., 0., 0., 0.,\n",
       "        0., 0., 0., 0., 0., 0., 0., 0., 0., 0., 0., 0., 0., 0., 0., 0.,\n",
       "        0., 0., 0., 0., 0., 0., 0., 0., 0., 0., 0., 0., 0., 0., 0., 0.,\n",
       "        0., 0., 0., 0., 0., 0., 0., 0., 0., 0., 0., 0., 0., 0., 0., 0.,\n",
       "        0., 0., 0., 0., 0., 0., 0., 0., 0., 0., 0., 0., 0., 0., 0., 0.,\n",
       "        0., 0., 0., 0., 0., 0., 0., 0., 0., 0., 0., 0., 0., 0., 0., 0.,\n",
       "        0., 0., 0., 0., 0., 0., 0., 0., 0., 0., 0., 0., 0., 0., 0., 0.,\n",
       "        0., 0., 0., 0., 0., 0., 0., 0., 0.]])"
      ]
     },
     "execution_count": 89,
     "metadata": {},
     "output_type": "execute_result"
    }
   ],
   "source": [
    "#standardizing target\n",
    "normalized_y=normalized_y.reshape(1,-1)\n",
    "scaled_y=preprocessing.scale(normalized_y)\n",
    "scaled_y"
   ]
  },
  {
   "cell_type": "code",
   "execution_count": null,
   "metadata": {},
   "outputs": [],
   "source": []
  },
  {
   "cell_type": "code",
   "execution_count": null,
   "metadata": {},
   "outputs": [],
   "source": []
  },
  {
   "cell_type": "code",
   "execution_count": null,
   "metadata": {},
   "outputs": [],
   "source": []
  },
  {
   "cell_type": "code",
   "execution_count": null,
   "metadata": {},
   "outputs": [],
   "source": []
  }
 ],
 "metadata": {
  "kernelspec": {
   "display_name": "Python 3",
   "language": "python",
   "name": "python3"
  },
  "language_info": {
   "codemirror_mode": {
    "name": "ipython",
    "version": 3
   },
   "file_extension": ".py",
   "mimetype": "text/x-python",
   "name": "python",
   "nbconvert_exporter": "python",
   "pygments_lexer": "ipython3",
   "version": "3.7.3"
  }
 },
 "nbformat": 4,
 "nbformat_minor": 2
}
