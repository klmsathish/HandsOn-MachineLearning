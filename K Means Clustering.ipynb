{
 "cells": [
  {
   "cell_type": "code",
   "execution_count": 15,
   "metadata": {},
   "outputs": [],
   "source": [
    "#importing Required Packages\n",
    "%matplotlib inline\n",
    "import matplotlib.pyplot as plt\n",
    "import seaborn as sns # for plot styling\n",
    "import numpy as np"
   ]
  },
  {
   "cell_type": "code",
   "execution_count": 16,
   "metadata": {},
   "outputs": [
    {
     "data": {
      "image/png": "[encoded data removed]",
      "text/plain": [
       "<Figure size 432x288 with 1 Axes>"
      ]
     },
     "metadata": {
      "needs_background": "light"
     },
     "output_type": "display_data"
    }
   ],
   "source": [
    "#make blobs to create fake blobs with random data\n",
    "from sklearn.datasets.samples_generator import make_blobs\n",
    "X, y_true = make_blobs(n_samples=300, centers=2,\n",
    "                       cluster_std=0.60, random_state=0)\n",
    "plt.scatter(X[:,0], X[:,1], s=50);"
   ]
  },
  {
   "cell_type": "code",
   "execution_count": 17,
   "metadata": {},
   "outputs": [
    {
     "data": {
      "text/plain": [
       "array([[ 2.40615694e+00,  4.87047502e+00],\n",
       "       [ 2.58076718e+00,  8.28599179e-01],\n",
       "       [ 1.06269622e+00,  5.17635143e+00],\n",
       "       [ 2.54821895e+00,  9.00839248e-01],\n",
       "       [ 1.39016098e+00,  5.08489507e+00],\n",
       "       [ 1.21569789e+00,  2.64023167e+00],\n",
       "       [ 2.45509737e+00,  6.21231788e-01],\n",
       "       [ 1.54592256e+00,  4.35631807e+00],\n",
       "       [ 2.17484764e+00,  8.67301535e-01],\n",
       "       [ 2.47153141e+00,  8.01919597e-01],\n",
       "       [ 1.74475610e+00,  3.10365744e-01],\n",
       "       [ 1.21833533e-01,  4.00779540e+00],\n",
       "       [ 2.07844585e+00, -9.63654015e-02],\n",
       "       [ 1.43289271e+00,  4.37679234e+00],\n",
       "       [ 1.39119333e+00,  4.72063681e+00],\n",
       "       [ 6.33515378e-01,  1.41609504e+00],\n",
       "       [ 1.65991049e+00,  3.56289184e+00],\n",
       "       [ 1.34471770e+00,  4.85711133e+00],\n",
       "       [ 6.82095497e-01,  1.04855431e+00],\n",
       "       [ 5.40911651e-01,  3.47376895e+00],\n",
       "       [ 2.25861000e+00,  2.11028980e+00],\n",
       "       [ 1.87271752e+00,  4.18069237e+00],\n",
       "       [ 6.18481655e-01,  4.27224695e+00],\n",
       "       [ 7.93137001e-03,  4.17614316e+00],\n",
       "       [ 1.25594053e+00, -2.83511154e-01],\n",
       "       [ 2.22353254e+00,  3.01789493e-01],\n",
       "       [ 7.43873988e-01,  4.12240568e+00],\n",
       "       [ 1.93112532e+00,  1.42577101e+00],\n",
       "       [ 1.79071394e+00,  7.29450363e-01],\n",
       "       [ 1.92353968e-01,  5.29866574e+00],\n",
       "       [ 2.28490698e+00,  8.77118292e-01],\n",
       "       [ 1.68353782e+00,  4.19583243e+00],\n",
       "       [ 5.90099037e-01,  2.96974544e+00],\n",
       "       [ 1.03490506e+00,  4.65355954e+00],\n",
       "       [ 1.63244736e+00,  1.46362009e+00],\n",
       "       [ 2.06044426e+00,  1.21386619e+00],\n",
       "       [ 1.24651227e+00,  4.40719627e-01],\n",
       "       [ 2.93521475e+00,  1.40919482e+00],\n",
       "       [ 1.37964693e+00,  4.54826443e+00],\n",
       "       [ 2.33185545e+00,  4.27843304e+00],\n",
       "       [ 2.39564169e+00,  7.64058600e-01],\n",
       "       [ 9.09945684e-01,  4.91589095e+00],\n",
       "       [ 1.65225163e+00,  3.65582842e+00],\n",
       "       [ 2.87398663e+00,  4.83994149e-01],\n",
       "       [ 3.49118059e-01,  5.03047450e+00],\n",
       "       [ 5.17918699e-02,  4.34174452e+00],\n",
       "       [ 2.04585825e+00,  9.94220561e-01],\n",
       "       [ 1.91005562e+00,  1.80862036e+00],\n",
       "       [ 1.83645139e+00,  9.91685973e-01],\n",
       "       [ 2.26812214e+00,  1.26779559e+00],\n",
       "       [ 7.98505679e-01,  9.71896808e-01],\n",
       "       [ 2.21997734e+00,  3.63114610e-01],\n",
       "       [ 1.82448027e+00,  6.31362004e-01],\n",
       "       [ 1.47896489e+00,  4.21793242e-01],\n",
       "       [ 2.51526543e+00,  1.11143935e+00],\n",
       "       [-1.84892963e-03,  4.58145668e+00],\n",
       "       [ 4.59534668e-01,  5.44982630e+00],\n",
       "       [ 1.07568681e+00, -4.29969746e-02],\n",
       "       [ 2.70218590e+00, -6.37847140e-01],\n",
       "       [ 1.00372519e+00,  4.19147702e+00],\n",
       "       [ 2.35448169e+00,  1.52644695e+00],\n",
       "       [ 1.77324779e+00,  7.67624778e-01],\n",
       "       [ 5.14320434e-01,  4.62733684e+00],\n",
       "       [ 2.61731300e+00,  1.74506028e+00],\n",
       "       [ 1.94087543e+00,  6.60753952e-01],\n",
       "       [ 2.65070401e-02,  4.67001495e+00],\n",
       "       [ 2.00555933e-01,  4.46401785e+00],\n",
       "       [ 1.37917204e+00,  4.59257008e-01],\n",
       "       [ 5.71670482e-01,  4.32288566e+00],\n",
       "       [ 6.17880437e-01,  4.16103429e+00],\n",
       "       [ 1.93352942e+00,  8.31733992e-01],\n",
       "       [ 2.02784515e+00,  1.02996825e+00],\n",
       "       [ 2.22583532e+00,  1.94326493e+00],\n",
       "       [ 9.61674404e-01,  3.86096878e+00],\n",
       "       [ 1.25471244e+00,  8.96331565e-02],\n",
       "       [ 7.34363910e-01,  5.03725437e+00],\n",
       "       [ 2.27421165e+00,  5.10570410e+00],\n",
       "       [ 2.33314572e+00,  1.06512112e+00],\n",
       "       [ 1.66766902e+00,  4.95155848e+00],\n",
       "       [ 9.59360742e-01,  4.56078645e+00],\n",
       "       [ 2.73242396e+00,  1.19526423e+00],\n",
       "       [ 1.68908795e+00,  4.49395289e+00],\n",
       "       [ 2.62109517e+00, -7.46142640e-01],\n",
       "       [ 4.28576743e-01,  4.97399710e+00],\n",
       "       [ 3.13640075e-01,  4.33508638e+00],\n",
       "       [ 1.07627418e+00,  4.68480619e+00],\n",
       "       [ 2.18335555e+00,  1.72519468e-01],\n",
       "       [ 9.94144451e-01,  1.11095274e+00],\n",
       "       [ 1.86725632e-01,  4.02683656e+00],\n",
       "       [ 3.55724373e-01,  4.71274404e+00],\n",
       "       [ 1.92354290e+00,  2.47241688e-01],\n",
       "       [ 2.59242369e+00,  1.72264210e+00],\n",
       "       [ 1.84320847e+00, -7.22208533e-02],\n",
       "       [ 1.24258802e+00,  4.50399192e+00],\n",
       "       [ 1.97663511e+00,  1.57751159e+00],\n",
       "       [ 2.10616050e+00,  3.49513189e+00],\n",
       "       [ 2.40919541e+00,  6.79348374e-01],\n",
       "       [ 2.53560640e+00,  9.44619765e-01],\n",
       "       [ 7.02950576e-01,  4.31427482e+00],\n",
       "       [ 8.84185061e-01,  5.01728622e-01],\n",
       "       [ 1.66013574e+00,  5.89123280e-01],\n",
       "       [ 1.19008992e+00,  4.72773123e+00],\n",
       "       [ 1.27251514e+00,  4.23412496e+00],\n",
       "       [ 7.54760976e-01,  4.16015982e+00],\n",
       "       [ 8.15468056e-01,  4.78526116e+00],\n",
       "       [ 8.45423545e-01,  5.73990880e-01],\n",
       "       [ 1.10123507e+00,  4.88977075e+00],\n",
       "       [ 1.36085437e+00,  7.10288309e-01],\n",
       "       [ 9.05371651e-01,  3.89568041e+00],\n",
       "       [ 1.49036845e+00,  3.91317197e+00],\n",
       "       [ 1.37138605e+00,  1.36863817e+00],\n",
       "       [ 1.43934441e+00,  4.79788982e+00],\n",
       "       [ 9.82570091e-01,  5.37530962e+00],\n",
       "       [ 1.92170411e+00,  3.49816129e-01],\n",
       "       [ 4.88251523e-01,  3.42393273e+00],\n",
       "       [ 1.35140895e+00,  3.34255273e+00],\n",
       "       [ 2.13003529e+00,  5.19209620e+00],\n",
       "       [ 1.28745402e+00,  5.46404937e-01],\n",
       "       [ 5.61040170e-01,  5.22561356e+00],\n",
       "       [ 1.61784073e+00,  1.01559810e+00],\n",
       "       [ 2.56024628e+00,  7.47988512e-01],\n",
       "       [ 1.96066731e+00,  2.25169776e+00],\n",
       "       [ 1.44806686e+00,  4.02393587e+00],\n",
       "       [ 1.87296081e+00,  3.06179631e+00],\n",
       "       [ 1.76747403e+00,  1.26987864e+00],\n",
       "       [ 4.02703078e-01,  4.09619826e+00],\n",
       "       [ 1.81983412e+00, -9.30022173e-01],\n",
       "       [ 1.03640403e+00,  1.13003195e+00],\n",
       "       [ 2.27776252e+00,  9.82900743e-01],\n",
       "       [ 2.57002188e+00,  1.58232478e+00],\n",
       "       [ 1.42249044e+00,  1.38981236e+00],\n",
       "       [ 7.63873732e-01,  3.47881655e+00],\n",
       "       [ 2.20053830e+00,  3.64431506e-01],\n",
       "       [ 1.47260478e+00,  1.08655398e+00],\n",
       "       [ 1.97504659e+00,  1.54430994e+00],\n",
       "       [ 1.92509778e+00,  1.16489961e+00],\n",
       "       [ 5.95676822e-01,  4.08614263e+00],\n",
       "       [ 2.79018986e+00,  9.36577324e-01],\n",
       "       [ 1.65923373e+00,  1.00315503e+00],\n",
       "       [ 1.64256495e+00,  1.69217218e-01],\n",
       "       [ 7.89338559e-01,  4.33748653e+00],\n",
       "       [ 1.57189162e+00,  2.26676505e-01],\n",
       "       [ 2.77180174e-01,  4.84428322e+00],\n",
       "       [ 2.50358052e+00,  1.84296687e-01],\n",
       "       [ 2.54397941e+00,  9.33019013e-01],\n",
       "       [ 6.70478769e-01,  4.04094275e+00],\n",
       "       [ 1.34777276e+00,  1.67852050e+00],\n",
       "       [ 1.81813013e+00,  2.02011350e-01],\n",
       "       [ 1.59678117e+00,  3.49887757e-02],\n",
       "       [ 4.38990142e-01,  4.53592883e+00],\n",
       "       [ 7.11505086e-01,  1.13856309e+00],\n",
       "       [-4.74920358e-02,  5.47425256e+00],\n",
       "       [ 7.90862297e-01,  3.29818504e+00],\n",
       "       [ 1.88986520e+00,  4.71826880e-01],\n",
       "       [ 2.07747095e+00,  1.35840510e+00],\n",
       "       [ 3.04414848e+00,  9.96200313e-01],\n",
       "       [-1.85497805e-01,  4.41705449e+00],\n",
       "       [ 3.33818506e-01,  4.93645836e+00],\n",
       "       [ 1.46396108e+00,  1.45626555e-02],\n",
       "       [ 3.47138300e-01,  3.45177657e+00],\n",
       "       [ 7.67522789e-01,  4.39759671e+00],\n",
       "       [-2.42140602e-01,  5.54248304e+00],\n",
       "       [ 2.09680545e+00,  4.84741412e+00],\n",
       "       [ 1.84679713e+00,  5.48902574e-01],\n",
       "       [ 1.05241733e+00,  4.54498095e+00],\n",
       "       [ 1.52878537e+00,  4.49502392e+00],\n",
       "       [ 5.94762432e-01,  4.70964730e+00],\n",
       "       [ 5.72793810e-01,  4.08805543e+00],\n",
       "       [ 6.36763231e-01,  9.09864169e-01],\n",
       "       [ 9.66057830e-01,  4.53127837e+00],\n",
       "       [ 2.33812285e+00,  3.43116792e+00],\n",
       "       [ 2.00370906e+00,  1.01423942e+00],\n",
       "       [ 1.89462740e+00,  2.20856861e-01],\n",
       "       [ 1.14807629e+00,  4.66909363e+00],\n",
       "       [ 2.82560619e-01,  4.77250619e+00],\n",
       "       [ 1.01618041e+00,  4.48527047e+00],\n",
       "       [ 2.87788887e-01,  4.04109530e+00],\n",
       "       [ 1.25566754e+00,  3.38204112e+00],\n",
       "       [ 1.12500991e+00,  1.14805495e+00],\n",
       "       [ 1.77516019e+00,  4.75199921e-02],\n",
       "       [ 1.32222457e+00,  4.17880807e+00],\n",
       "       [ 9.14338767e-01,  4.55014643e+00],\n",
       "       [ 1.54632313e+00,  4.21297300e+00],\n",
       "       [ 1.06923853e+00,  4.53068484e+00],\n",
       "       [ 1.48864643e+00,  1.04052555e+00],\n",
       "       [ 3.26202153e+00,  8.70906404e-01],\n",
       "       [ 1.71444449e+00,  5.02521524e+00],\n",
       "       [ 2.57664561e+00,  1.06378680e+00],\n",
       "       [ 6.69786996e-01,  3.59540802e+00],\n",
       "       [ 1.20212540e+00,  3.64414685e+00],\n",
       "       [ 7.01928984e-01,  2.84159554e-01],\n",
       "       [ 2.01829168e+00,  8.33280494e-01],\n",
       "       [ 1.49717362e+00,  7.90510205e-01],\n",
       "       [ 5.29417185e-01,  3.80792420e+00],\n",
       "       [ 1.64486098e+00,  1.89339414e+00],\n",
       "       [ 1.72268175e+00,  6.15281065e-01],\n",
       "       [ 1.54462126e+00,  4.21078127e+00],\n",
       "       [ 1.94423532e+00,  4.13074567e-01],\n",
       "       [ 5.93807863e-01,  4.06542424e+00],\n",
       "       [ 2.96726444e+00,  1.92941724e+00],\n",
       "       [ 1.41372442e+00,  4.38117707e+00],\n",
       "       [ 2.32753667e+00, -2.00180587e-01],\n",
       "       [ 1.82433964e+00,  9.54274614e-01],\n",
       "       [ 2.61297059e+00,  1.24699841e+00],\n",
       "       [ 1.21387411e+00,  3.64795042e+00],\n",
       "       [ 1.64845205e+00,  1.67637113e+00],\n",
       "       [ 5.59529363e-01,  4.21400660e+00],\n",
       "       [ 2.26633559e+00,  1.12520498e+00],\n",
       "       [ 4.88382309e-01,  3.26801777e+00],\n",
       "       [ 4.43598630e-01,  3.11530945e+00],\n",
       "       [ 1.75357750e+00,  2.34513587e+00],\n",
       "       [ 2.40238042e+00,  1.10745633e+00],\n",
       "       [ 1.00173317e+00,  1.16822434e+00],\n",
       "       [ 7.36600661e-01,  4.52582086e+00],\n",
       "       [ 6.50553193e-01,  4.55341736e+00],\n",
       "       [ 1.08272576e+00,  4.06271877e+00],\n",
       "       [ 2.84674965e+00,  3.68212369e-01],\n",
       "       [ 1.14422484e+00,  4.24489709e+00],\n",
       "       [ 1.63606584e+00,  4.69694557e+00],\n",
       "       [ 2.51921931e+00,  1.87335276e-01],\n",
       "       [ 1.06144198e+00,  4.11219028e+00],\n",
       "       [ 1.69607516e+00,  2.28125468e-01],\n",
       "       [ 1.89593761e+00,  5.18540259e+00],\n",
       "       [ 1.51000957e+00,  6.43073087e-01],\n",
       "       [ 2.72396035e-01,  5.46996004e+00],\n",
       "       [ 1.49493180e+00,  3.85848832e+00],\n",
       "       [ 2.96326437e+00,  1.22954290e+00],\n",
       "       [ 2.13979079e-01,  4.88542535e+00],\n",
       "       [ 2.62954524e-01,  3.99969751e+00],\n",
       "       [ 9.49425791e-01,  6.10879258e-01],\n",
       "       [ 1.21767506e+00,  3.89290127e+00],\n",
       "       [ 1.23202532e+00,  4.70993215e+00],\n",
       "       [ 1.58569003e+00,  8.31430081e-01],\n",
       "       [ 2.71307563e+00,  7.57134179e-01],\n",
       "       [ 1.97720335e+00,  9.54035598e-01],\n",
       "       [ 2.41008767e-01,  4.81040511e+00],\n",
       "       [ 4.53791789e-01,  3.95647753e+00],\n",
       "       [ 4.09602325e-01,  4.05775751e+00],\n",
       "       [ 2.17230934e+00, -1.71274053e-01],\n",
       "       [ 1.79175381e+00,  1.00646672e+00],\n",
       "       [ 2.76409468e+00,  5.18521405e-01],\n",
       "       [ 2.08496451e+00,  1.19396573e+00],\n",
       "       [ 1.86979885e+00,  7.57583663e-01],\n",
       "       [ 2.51811109e+00,  1.51532696e+00],\n",
       "       [ 8.15155229e-02,  4.56742235e+00],\n",
       "       [ 2.47434181e+00,  8.99926193e-01],\n",
       "       [ 1.52237742e+00,  4.49411826e+00],\n",
       "       [ 7.15177948e-01,  5.41334556e+00],\n",
       "       [ 1.66389136e+00,  5.84950073e-01],\n",
       "       [ 4.59764179e-01,  1.26145537e+00],\n",
       "       [ 3.09490023e+00,  1.30836432e+00],\n",
       "       [ 5.32532281e-01,  5.22959608e+00],\n",
       "       [ 6.98112494e-01,  4.59267621e+00],\n",
       "       [ 1.04653659e+00,  3.64280845e-01],\n",
       "       [ 2.09680487e+00,  3.71742060e+00],\n",
       "       [ 1.86922139e+00,  5.44132083e+00],\n",
       "       [ 2.32971689e+00,  3.18896452e-01],\n",
       "       [ 9.17198564e-01,  3.90570036e+00],\n",
       "       [ 3.09859113e+00,  1.49430029e+00],\n",
       "       [ 1.71368029e+00,  1.05960627e+00],\n",
       "       [ 1.16411070e+00,  3.79132988e+00],\n",
       "       [ 1.44444240e+00,  8.50950806e-01],\n",
       "       [ 1.15521298e+00,  5.09961887e+00],\n",
       "       [ 2.35862010e+00,  3.66777783e+00],\n",
       "       [ 1.07017400e+00,  4.44309595e+00],\n",
       "       [ 2.44125620e+00, -4.47103852e-02],\n",
       "       [ 2.02996465e+00,  7.25531345e-01],\n",
       "       [-5.55523811e-01,  4.69595848e+00],\n",
       "       [ 1.29023607e+00,  4.20085953e+00],\n",
       "       [ 4.94224280e-01,  3.89005746e+00],\n",
       "       [ 6.77450608e-01,  5.46150656e+00],\n",
       "       [ 7.28098690e-01,  3.85531444e+00],\n",
       "       [ 2.62074839e+00,  7.37106812e-01],\n",
       "       [ 3.67300195e+00,  8.53308860e-01],\n",
       "       [ 8.96541732e-01,  4.12511280e+00],\n",
       "       [ 3.76140870e-01,  3.37692467e+00],\n",
       "       [ 4.31891060e-01,  4.33495456e+00],\n",
       "       [ 2.14981746e+00,  4.53784332e+00],\n",
       "       [ 1.36034899e+00,  3.33361370e+00],\n",
       "       [ 7.89738376e-01,  4.36222743e+00],\n",
       "       [ 1.77394901e+00, -4.23201111e-01],\n",
       "       [ 1.88016510e+00,  4.40768333e-01],\n",
       "       [ 2.38125466e+00,  1.16108943e+00],\n",
       "       [ 1.29060469e+00,  4.35684058e+00],\n",
       "       [ 8.94700258e-01,  4.98592215e+00],\n",
       "       [ 1.89828025e+00,  7.88316790e-01],\n",
       "       [ 2.15362466e+00,  9.55456473e-01],\n",
       "       [ 2.57282513e+00, -6.95707796e-01],\n",
       "       [ 5.99417543e-01,  4.01517106e+00],\n",
       "       [ 9.52700388e-01,  3.60293123e+00],\n",
       "       [ 2.24592863e-01,  4.77028154e+00],\n",
       "       [ 1.43730635e+00,  6.87697641e-01],\n",
       "       [ 2.69637316e+00,  6.25632178e-01],\n",
       "       [ 9.35325115e-01,  5.33179296e+00],\n",
       "       [ 2.71543812e+00,  1.67647684e+00],\n",
       "       [ 2.61437655e+00,  1.10164265e+00],\n",
       "       [ 5.84824929e-01,  4.06921530e+00],\n",
       "       [ 1.18734670e+00,  1.37784243e+00],\n",
       "       [ 1.62350489e+00,  4.09867867e-01],\n",
       "       [ 1.28890900e+00,  3.95831455e+00]])"
      ]
     },
     "execution_count": 17,
     "metadata": {},
     "output_type": "execute_result"
    }
   ],
   "source": [
    "X"
   ]
  },
  {
   "cell_type": "code",
   "execution_count": 18,
   "metadata": {},
   "outputs": [],
   "source": [
    "#creating  a class for our  model\n",
    "from sklearn.cluster import KMeans\n",
    "kmeans = KMeans(n_clusters=2)\n",
    "kmeans.fit(X)\n",
    "y_kmeans = kmeans.predict(X)"
   ]
  },
  {
   "cell_type": "code",
   "execution_count": 19,
   "metadata": {},
   "outputs": [
    {
     "data": {
      "image/png": "[encoded data removed]",
      "text/plain": [
       "<Figure size 432x288 with 1 Axes>"
      ]
     },
     "metadata": {
      "needs_background": "light"
     },
     "output_type": "display_data"
    }
   ],
   "source": [
    "#plotting centers of our blobs\n",
    "plt.scatter(X[:, 0], X[:, 1], c=y_kmeans, s=50, cmap='viridis')\n",
    "centers = kmeans.cluster_centers_\n",
    "plt.scatter(centers[:, 0], centers[:, 1], c='red', s=200, alpha=0.5);"
   ]
  },
  {
   "cell_type": "code",
   "execution_count": 20,
   "metadata": {},
   "outputs": [
    {
     "name": "stdout",
     "output_type": "stream",
     "text": [
      "[[0.94060243 4.34916815]\n",
      " [1.9674274  0.81501647]]\n"
     ]
    }
   ],
   "source": [
    "#centroid points of our centers\n",
    "print(centers)\n",
    "x_pros =np.array(X)"
   ]
  },
  {
   "cell_type": "code",
   "execution_count": 21,
   "metadata": {},
   "outputs": [],
   "source": [
    "#creting blobs of our data\n",
    "x=np.array([[45,12],[45,14],[49,12],[5,2],[49,17],[1,32],[2,7]])"
   ]
  },
  {
   "cell_type": "code",
   "execution_count": 22,
   "metadata": {},
   "outputs": [],
   "source": [
    "#fiiting our model and callinf for instance\n",
    "from sklearn.cluster import KMeans\n",
    "kmeans = KMeans(n_clusters=2)\n",
    "kmeans.fit(x)\n",
    "y_kmeans = kmeans.predict(x)"
   ]
  },
  {
   "cell_type": "code",
   "execution_count": 24,
   "metadata": {},
   "outputs": [
    {
     "data": {
      "image/png": "[encoded data removed]",
      "text/plain": [
       "<Figure size 432x288 with 1 Axes>"
      ]
     },
     "metadata": {
      "needs_background": "light"
     },
     "output_type": "display_data"
    }
   ],
   "source": [
    "#scattering our points with size 50 and centers with size 200\n",
    "plt.scatter(x[:, 0], x[:, 1], c=y_kmeans, s=50, cmap='viridis')\n",
    "centers = kmeans.cluster_centers_\n",
    "plt.scatter(centers[:, 0], centers[:, 1], c='red', s=200, alpha=0.5);"
   ]
  },
  {
   "cell_type": "code",
   "execution_count": 14,
   "metadata": {},
   "outputs": [
    {
     "name": "stdout",
     "output_type": "stream",
     "text": [
      "[[47.         13.75      ]\n",
      " [ 2.66666667 13.66666667]]\n"
     ]
    }
   ],
   "source": [
    "#measuring centroids\n",
    "print(centers)\n"
   ]
  },
  {
   "cell_type": "code",
   "execution_count": null,
   "metadata": {},
   "outputs": [],
   "source": []
  }
 ],
 "metadata": {
  "kernelspec": {
   "display_name": "Python 3",
   "language": "python",
   "name": "python3"
  },
  "language_info": {
   "codemirror_mode": {
    "name": "ipython",
    "version": 3
   },
   "file_extension": ".py",
   "mimetype": "text/x-python",
   "name": "python",
   "nbconvert_exporter": "python",
   "pygments_lexer": "ipython3",
   "version": "3.7.3"
  },
  "toc": {
   "base_numbering": 1,
   "nav_menu": {},
   "number_sections": true,
   "sideBar": true,
   "skip_h1_title": false,
   "title_cell": "Table of Contents",
   "title_sidebar": "Contents",
   "toc_cell": false,
   "toc_position": {},
   "toc_section_display": true,
   "toc_window_display": false
  },
  "varInspector": {
   "cols": {
    "lenName": 16,
    "lenType": 16,
    "lenVar": 40
   },
   "kernels_config": {
    "python": {
     "delete_cmd_postfix": "",
     "delete_cmd_prefix": "del ",
     "library": "var_list.py",
     "varRefreshCmd": "print(var_dic_list())"
    },
    "r": {
     "delete_cmd_postfix": ") ",
     "delete_cmd_prefix": "rm(",
     "library": "var_list.r",
     "varRefreshCmd": "cat(var_dic_list()) "
    }
   },
   "types_to_exclude": [
    "module",
    "function",
    "builtin_function_or_method",
    "instance",
    "_Feature"
   ],
   "window_display": false
  }
 },
 "nbformat": 4,
 "nbformat_minor": 2
}
